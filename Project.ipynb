{
 "cells": [
  {
   "cell_type": "code",
   "execution_count": 1,
   "id": "332e6b0b",
   "metadata": {},
   "outputs": [],
   "source": [
    "import pandas as pd"
   ]
  },
  {
   "cell_type": "code",
   "execution_count": 2,
   "id": "9bcb9ba4",
   "metadata": {},
   "outputs": [],
   "source": [
    "import numpy as np"
   ]
  },
  {
   "cell_type": "code",
   "execution_count": 3,
   "id": "eaa9c4a1",
   "metadata": {},
   "outputs": [],
   "source": [
    "housing=pd.read_csv(\"Book2.csv\")"
   ]
  },
  {
   "cell_type": "code",
   "execution_count": 4,
   "id": "8dcfa7e9",
   "metadata": {},
   "outputs": [],
   "source": [
    "housing.head()"
   ]
  },
  {
   "cell_type": "code",
   "execution_count": 5,
   "id": "0f0f70c7",
   "metadata": {},
   "outputs": [],
   "source": [
    "# housing.info()"
   ]
  },
  {
   "cell_type": "code",
   "execution_count": 6,
   "id": "cbd8265c",
   "metadata": {},
   "outputs": [],
   "source": [
    "# housing['CHAS'].value_counts()"
   ]
  },
  {
   "cell_type": "code",
   "execution_count": 7,
   "id": "c528c176",
   "metadata": {},
   "outputs": [],
   "source": [
    "# housing.describe()"
   ]
  },
  {
   "cell_type": "code",
   "execution_count": 8,
   "id": "d9577da2",
   "metadata": {},
   "outputs": [],
   "source": [
    "# import matplotlib.pyplot as plt"
   ]
  },
  {
   "cell_type": "code",
   "execution_count": 9,
   "id": "33a53bed",
   "metadata": {},
   "outputs": [],
   "source": [
    "# housing.hist(bins=50,figsize=(20,15))"
   ]
  },
  {
   "cell_type": "markdown",
   "id": "d258d703",
   "metadata": {},
   "source": [
    "## Train Test splitting"
   ]
  },
  {
   "cell_type": "code",
   "execution_count": 10,
   "id": "c65f9b60",
   "metadata": {},
   "outputs": [],
   "source": [
    "# # For learning purpose\n",
    "# import numpy as np\n",
    "# def split_train_test(data, test_ratio):\n",
    "#     np.random.seed(42)\n",
    "#     shuffled = np.random.permutation(len(data))\n",
    "#     print(shuffled)\n",
    "#     test_set_size = int(len(data) * test_ratio)\n",
    "#     test_indices = shuffled[:test_set_size]\n",
    "#     train_indices = shuffled[test_set_size:] \n",
    "#     return data.iloc[train_indices], data.iloc[test_indices]"
   ]
  },
  {
   "cell_type": "code",
   "execution_count": 11,
   "id": "f93ef097",
   "metadata": {},
   "outputs": [],
   "source": [
    "# from sklearn.model_selection import train_test_split\n",
    "# train_set,test_set=train_test_split(housing,test_size=0.2,random_state=42)"
   ]
  },
  {
   "cell_type": "code",
   "execution_count": 12,
   "id": "eb396c0c",
   "metadata": {},
   "outputs": [],
   "source": [
    "# from sklearn.model_selection import StratifiedShuffleSplit\n",
    "# split=StratifiedShuffleSplit(n_splits=1,test_size=0.2,random_state=42)\n",
    "# for train_indices,test_indices in split.split(housing,housing['CHAS']):\n",
    "#     strat_train_set=housing.loc[train_indices]\n",
    "#     strat_test_set=housing.loc[test_indices]    "
   ]
  },
  {
   "cell_type": "code",
   "execution_count": 13,
   "id": "3c287449",
   "metadata": {},
   "outputs": [],
   "source": [
    "# print(f\"Rows in train set:\",len(train_set),\"\\n\",\"Rows test set:\",len(test_set))"
   ]
  },
  {
   "cell_type": "markdown",
   "id": "31056b51",
   "metadata": {},
   "source": [
    "# Looking for correlations"
   ]
  },
  {
   "cell_type": "code",
   "execution_count": 14,
   "id": "cd2ca291",
   "metadata": {},
   "outputs": [],
   "source": [
    "# corr_matrix=housing.corr()\n",
    "# corr_matrix['MEDV'].sort_values(ascending=False)"
   ]
  },
  {
   "cell_type": "code",
   "execution_count": 15,
   "id": "5a8d8b09",
   "metadata": {},
   "outputs": [],
   "source": [
    "# from pandas.plotting import scatter_matrix\n",
    "# attributes=[\"MEDV\",\"RM\",\"ZN\",\"LSTAT\"]\n",
    "# scatter_matrix(housing[attributes],figsize=(12,8))"
   ]
  },
  {
   "cell_type": "code",
   "execution_count": 16,
   "id": "10d4b46f",
   "metadata": {},
   "outputs": [],
   "source": [
    "# housing.plot(kind=\"scatter\",x=\"RM\",y=\"MEDV\",alpha=0.5)"
   ]
  },
  {
   "cell_type": "code",
   "execution_count": 17,
   "id": "7d7e4db6",
   "metadata": {},
   "outputs": [],
   "source": [
    "from sklearn.model_selection import train_test_split\n",
    "train_set,test_set=train_test_split(housing,test_size=0.2,random_state=42)\n",
    "\n",
    "\n",
    "from sklearn.model_selection import StratifiedShuffleSplit\n",
    "split=StratifiedShuffleSplit(n_splits=1,test_size=0.2,random_state=42)\n",
    "for train_indices,test_indices in split.split(housing,housing['CHAS']):\n",
    "    strat_train_set=housing.loc[train_indices]\n",
    "    strat_test_set=housing.loc[test_indices]\n",
    " \n",
    "\n"
   ]
  },
  {
   "cell_type": "code",
   "execution_count": 18,
   "id": "c4f3315e",
   "metadata": {},
   "outputs": [],
   "source": [
    "from sklearn.pipeline import Pipeline\n",
    "from sklearn.preprocessing import StandardScaler\n",
    "myPipeline=Pipeline([\n",
    "    \n",
    "    ('std_scaler',StandardScaler())\n",
    "])\n"
   ]
  },
  {
   "cell_type": "markdown",
   "id": "11881366",
   "metadata": {},
   "source": [
    "# Creating a pipeline"
   ]
  },
  {
   "cell_type": "code",
   "execution_count": 19,
   "id": "ec9f3f3f",
   "metadata": {},
   "outputs": [],
   "source": [
    "housing=strat_train_set.drop(\"MEDV\",axis=1)\n",
    "housing_labels=strat_train_set[\"MEDV\"]"
   ]
  },
  {
   "cell_type": "code",
   "execution_count": 20,
   "id": "59768eb6",
   "metadata": {},
   "outputs": [],
   "source": [
    "housing_mean_transform=myPipeline.fit_transform(housing)"
   ]
  },
  {
   "cell_type": "markdown",
   "id": "0785de7a",
   "metadata": {},
   "source": [
    "# Selecting a desired model for prediction"
   ]
  },
  {
   "cell_type": "code",
   "execution_count": 21,
   "id": "2951af2f",
   "metadata": {},
   "outputs": [],
   "source": [
    "from sklearn.linear_model import LinearRegression\n",
    "model=LinearRegression()\n",
    "model.fit(housing_mean_transform,housing_labels)"
   ]
  },
  {
   "cell_type": "markdown",
   "id": "1c80ea62",
   "metadata": {},
   "source": [
    "# Cross Validation"
   ]
  },
  {
   "cell_type": "code",
   "execution_count": 22,
   "id": "714ebfed",
   "metadata": {},
   "outputs": [],
   "source": [
    "from sklearn.model_selection import cross_val_score\n",
    "scores=cross_val_score(model,housing_mean_transform,housing_labels,scoring=\"neg_mean_squared_error\",cv=10)\n",
    "rmse_scores=np.sqrt(-scores)\n",
    "print(rmse_scores)\n"
   ]
  },
  {
   "cell_type": "code",
   "execution_count": 23,
   "id": "074d4fb3",
   "metadata": {},
   "outputs": [],
   "source": [
    "def print_scores(scores):\n",
    "    print(scores.mean())\n",
    "    print(scores.std())\n",
    "    \n"
   ]
  },
  {
   "cell_type": "code",
   "execution_count": 24,
   "id": "a54f4461",
   "metadata": {},
   "outputs": [],
   "source": [
    "print_scores(rmse_scores)"
   ]
  },
  {
   "cell_type": "code",
   "execution_count": 25,
   "id": "f8e72a7f",
   "metadata": {},
   "outputs": [],
   "source": [
    "from joblib import dump,load\n",
    "dump(model,\"Dragon.joblib\")"
   ]
  },
  {
   "cell_type": "markdown",
   "id": "173f7fe6",
   "metadata": {},
   "source": [
    "# Testing the model"
   ]
  },
  {
   "cell_type": "code",
   "execution_count": 26,
   "id": "c2626bec",
   "metadata": {},
   "outputs": [],
   "source": [
    "x_unprepared=strat_test_set.drop(\"MEDV\",axis=1)\n",
    "y_real=strat_test_set[\"MEDV\"].copy()\n",
    "x=myPipeline.fit_transform(x_unprepared)"
   ]
  },
  {
   "cell_type": "code",
   "execution_count": 27,
   "id": "6b047eb4",
   "metadata": {},
   "outputs": [],
   "source": [
    "y_predicted=model.predict(x)"
   ]
  },
  {
   "cell_type": "code",
   "execution_count": 28,
   "id": "fc65b102",
   "metadata": {},
   "outputs": [],
   "source": [
    "from sklearn.metrics import mean_squared_error\n",
    "mse=mean_squared_error(y_real,y_predicted)\n",
    "rmse=np.sqrt(mse)"
   ]
  },
  {
   "cell_type": "code",
   "execution_count": 29,
   "id": "966655ba",
   "metadata": {},
   "outputs": [],
   "source": [
    "rmse"
   ]
  },
  {
   "cell_type": "code",
   "execution_count": null,
   "id": "6d022920",
   "metadata": {},
   "outputs": [],
   "source": []
  }
 ],
 "metadata": {
  "kernelspec": {
   "display_name": "Python 3 (ipykernel)",
   "language": "python",
   "name": "python3"
  },
  "language_info": {
   "codemirror_mode": {
    "name": "ipython",
    "version": 3
   },
   "file_extension": ".py",
   "mimetype": "text/x-python",
   "name": "python",
   "nbconvert_exporter": "python",
   "pygments_lexer": "ipython3",
   "version": "3.10.6"
  }
 },
 "nbformat": 4,
 "nbformat_minor": 5
}
